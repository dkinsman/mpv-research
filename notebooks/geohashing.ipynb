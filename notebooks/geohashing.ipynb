{
 "cells": [
  {
   "cell_type": "code",
   "execution_count": 8,
   "id": "af834021",
   "metadata": {},
   "outputs": [],
   "source": [
    "import pandas as pd\n",
    "import numpy as np\n",
    "import pygeohash as gh"
   ]
  },
  {
   "cell_type": "code",
   "execution_count": 9,
   "id": "a3b4c7eb",
   "metadata": {
    "scrolled": true
   },
   "outputs": [
    {
     "name": "stdout",
     "output_type": "stream",
     "text": [
      "        date   latitude   longitude geohash\n",
      "0  6/23/2022  41.000000  -75.360000   dr63j\n",
      "1  6/22/2022  42.250000  -84.760000   dpe8r\n",
      "2  6/22/2022  37.412169 -121.960331   9q9kb\n",
      "3  6/21/2022  36.891971  -76.302463   dq99z\n",
      "4  6/21/2022  40.720000  -84.090000   dphpw\n",
      "(10453, 4)\n",
      "(6980, 4)\n",
      "<class 'pandas.core.series.Series'>\n",
      "(10453, 3)\n",
      "   bin   OCURRED  LAG\n",
      "0    1  06/23/22    0\n",
      "1    2  06/22/22    0\n",
      "2    3  06/22/22    0\n",
      "3    4  06/21/22    0\n",
      "4    5  06/21/22    0\n"
     ]
    }
   ],
   "source": [
    "file = pd.read_csv(\"../raw/mpv-data.csv\", sep=\",\")\n",
    "df =pd.DataFrame(file)\n",
    "df = df.loc[:,['date', 'latitude', 'longitude']]\n",
    "# print(df.shape)\n",
    "# print(df.isna().sum())\n",
    "df=df.dropna()\n",
    "df['geohash']=df.apply(lambda x: gh.encode(x.latitude, x.longitude, precision=5), axis=1)\n",
    "\n",
    "print(df.head())\n",
    "print(df.shape)\n",
    "\n",
    "unique_geo=df.drop_duplicates('geohash')\n",
    "print(unique_geo.shape)\n",
    "unique_geo=unique_geo['geohash']\n",
    "\n",
    "bins=range(len(df))\n",
    "geo_list = unique_geo.tolist()\n",
    "\n",
    "geo_dict= { geo_list[i] : i+1 for i in range(0, len(geo_list) ) }\n",
    "\n",
    "df['bins']=df['geohash'].map(geo_dict)\n",
    "df['rownum']=bins\n",
    "df['LAG']=0\n",
    "\n",
    "print(type(df['date']))\n",
    "df['date']=pd.to_datetime(df['date'])\n",
    "df['date']=df['date'].dt.strftime('%m/%d/%y')\n",
    "\n",
    "geo_final = df.loc[:,['bins', 'date', 'LAG']]\n",
    "geo_final = geo_final.rename({'bins': 'bin', 'date':'OCURRED'}, axis=1)\n",
    "geo_final.to_csv('../final/mpv-geohashed.csv')\n",
    "print(geo_final.shape)\n",
    "print(geo_final.head())"
   ]
  },
  {
   "cell_type": "code",
   "execution_count": 5,
   "id": "50d0b7c9",
   "metadata": {},
   "outputs": [],
   "source": [
    "def is_geohash_in_bounding_box(current_geohash, bbox_coords):\n",
    "    \n",
    "    coordinates=gh.decode(current_geohash)\n",
    "    geohash_in_bounding_box=(bbox_coords[0]<coordinates[0]<bbox_coords[2]) and (bbox_coords[1]<coordinates[1] <bbox_coords[3])\n",
    "    return geohash_in_bounding_box\n",
    "\n",
    "def build_geohash_box(current_geohash):\n",
    "    b=gh.bbox(current_geohash)\n",
    "    polygon=[(b['w'], b['s']), (b['w'], b['n']), (b['e'], b['n']), (b['e'], b['s'],), (b['w'], b['s'])]\n",
    "    return polygon\n",
    "\n",
    "def compute_geohash_tiles(bbox_coordinates):\n",
    "    \"\"\"Computes all geohash tile in the given bounding box\n",
    "\n",
    "    :param bbox_coordinates: the bounding box coordinates of the geohashes\n",
    "    :return: a list of geohashes\n",
    "    \"\"\"\n",
    "\n",
    "    checked_geohashes = set()\n",
    "    geohash_stack = set()\n",
    "    geohashes = []\n",
    "    # get center of bounding box, assuming the earth is flat ;)\n",
    "    center_latitude = (bbox_coordinates[0] + bbox_coordinates[2]) / 2\n",
    "    center_longitude = (bbox_coordinates[1] + bbox_coordinates[3]) / 2\n",
    "\n",
    "    center_geohash = geohash.encode(center_latitude, center_longitude, precision=GEOHASH_PRECISION)\n",
    "    geohashes.append(center_geohash)\n",
    "    geohash_stack.add(center_geohash)\n",
    "    checked_geohashes.add(center_geohash)\n",
    "    while len(geohash_stack) > 0:\n",
    "        current_geohash = geohash_stack.pop()\n",
    "        neighbors = geohash.neighbors(current_geohash)\n",
    "        for neighbor in neighbors:\n",
    "            if neighbor not in checked_geohashes and is_geohash_in_bounding_box(neighbor, bbox_coordinates):\n",
    "                geohashes.append(neighbor)\n",
    "                geohash_stack.add(neighbor)\n",
    "                checked_geohashes.add(neighbor)\n",
    "    return geohashes"
   ]
  },
  {
   "cell_type": "code",
   "execution_count": 7,
   "id": "cb5b461e",
   "metadata": {},
   "outputs": [
    {
     "ename": "AttributeError",
     "evalue": "module 'pygeohash' has no attribute 'bbox'",
     "output_type": "error",
     "traceback": [
      "\u001b[0;31m---------------------------------------------------------------------------\u001b[0m",
      "\u001b[0;31mAttributeError\u001b[0m                            Traceback (most recent call last)",
      "Input \u001b[0;32mIn [7]\u001b[0m, in \u001b[0;36m<cell line: 14>\u001b[0;34m()\u001b[0m\n\u001b[1;32m     11\u001b[0m     \u001b[38;5;28;01mwith\u001b[39;00m \u001b[38;5;28mopen\u001b[39m(\u001b[38;5;124m'\u001b[39m\u001b[38;5;124mghash_berlin_bbox.json\u001b[39m\u001b[38;5;124m'\u001b[39m, \u001b[38;5;124m'\u001b[39m\u001b[38;5;124mwb\u001b[39m\u001b[38;5;124m'\u001b[39m) \u001b[38;5;28;01mas\u001b[39;00m f:\n\u001b[1;32m     12\u001b[0m         f\u001b[38;5;241m.\u001b[39mwrite(geojson\u001b[38;5;241m.\u001b[39mdumps(ghash_polygon, sort_keys\u001b[38;5;241m=\u001b[39m\u001b[38;5;28;01mTrue\u001b[39;00m)\u001b[38;5;241m.\u001b[39mencode(\u001b[38;5;124m'\u001b[39m\u001b[38;5;124mutf-8\u001b[39m\u001b[38;5;124m'\u001b[39m))\n\u001b[0;32m---> 14\u001b[0m \u001b[43mwrite_geohash_layer\u001b[49m\u001b[43m(\u001b[49m\u001b[43mgeo_list\u001b[49m\u001b[43m)\u001b[49m\n",
      "Input \u001b[0;32mIn [7]\u001b[0m, in \u001b[0;36mwrite_geohash_layer\u001b[0;34m(geohashes)\u001b[0m\n\u001b[1;32m      4\u001b[0m \u001b[38;5;28;01mdef\u001b[39;00m \u001b[38;5;21mwrite_geohash_layer\u001b[39m(geohashes):\n\u001b[1;32m      5\u001b[0m     \u001b[38;5;124;03m\"\"\"Writes a grid layer based on the geohashes\u001b[39;00m\n\u001b[1;32m      6\u001b[0m \n\u001b[1;32m      7\u001b[0m \u001b[38;5;124;03m    :param geohashes: a list of geohashes\u001b[39;00m\n\u001b[1;32m      8\u001b[0m \u001b[38;5;124;03m    \"\"\"\u001b[39;00m\n\u001b[0;32m---> 10\u001b[0m     layer \u001b[38;5;241m=\u001b[39m MultiLineString([build_geohash_box(gh) \u001b[38;5;28;01mfor\u001b[39;00m gh \u001b[38;5;129;01min\u001b[39;00m geohashes])\n\u001b[1;32m     11\u001b[0m     \u001b[38;5;28;01mwith\u001b[39;00m \u001b[38;5;28mopen\u001b[39m(\u001b[38;5;124m'\u001b[39m\u001b[38;5;124mghash_berlin_bbox.json\u001b[39m\u001b[38;5;124m'\u001b[39m, \u001b[38;5;124m'\u001b[39m\u001b[38;5;124mwb\u001b[39m\u001b[38;5;124m'\u001b[39m) \u001b[38;5;28;01mas\u001b[39;00m f:\n\u001b[1;32m     12\u001b[0m         f\u001b[38;5;241m.\u001b[39mwrite(geojson\u001b[38;5;241m.\u001b[39mdumps(ghash_polygon, sort_keys\u001b[38;5;241m=\u001b[39m\u001b[38;5;28;01mTrue\u001b[39;00m)\u001b[38;5;241m.\u001b[39mencode(\u001b[38;5;124m'\u001b[39m\u001b[38;5;124mutf-8\u001b[39m\u001b[38;5;124m'\u001b[39m))\n",
      "Input \u001b[0;32mIn [7]\u001b[0m, in \u001b[0;36m<listcomp>\u001b[0;34m(.0)\u001b[0m\n\u001b[1;32m      4\u001b[0m \u001b[38;5;28;01mdef\u001b[39;00m \u001b[38;5;21mwrite_geohash_layer\u001b[39m(geohashes):\n\u001b[1;32m      5\u001b[0m     \u001b[38;5;124;03m\"\"\"Writes a grid layer based on the geohashes\u001b[39;00m\n\u001b[1;32m      6\u001b[0m \n\u001b[1;32m      7\u001b[0m \u001b[38;5;124;03m    :param geohashes: a list of geohashes\u001b[39;00m\n\u001b[1;32m      8\u001b[0m \u001b[38;5;124;03m    \"\"\"\u001b[39;00m\n\u001b[0;32m---> 10\u001b[0m     layer \u001b[38;5;241m=\u001b[39m MultiLineString([\u001b[43mbuild_geohash_box\u001b[49m\u001b[43m(\u001b[49m\u001b[43mgh\u001b[49m\u001b[43m)\u001b[49m \u001b[38;5;28;01mfor\u001b[39;00m gh \u001b[38;5;129;01min\u001b[39;00m geohashes])\n\u001b[1;32m     11\u001b[0m     \u001b[38;5;28;01mwith\u001b[39;00m \u001b[38;5;28mopen\u001b[39m(\u001b[38;5;124m'\u001b[39m\u001b[38;5;124mghash_berlin_bbox.json\u001b[39m\u001b[38;5;124m'\u001b[39m, \u001b[38;5;124m'\u001b[39m\u001b[38;5;124mwb\u001b[39m\u001b[38;5;124m'\u001b[39m) \u001b[38;5;28;01mas\u001b[39;00m f:\n\u001b[1;32m     12\u001b[0m         f\u001b[38;5;241m.\u001b[39mwrite(geojson\u001b[38;5;241m.\u001b[39mdumps(ghash_polygon, sort_keys\u001b[38;5;241m=\u001b[39m\u001b[38;5;28;01mTrue\u001b[39;00m)\u001b[38;5;241m.\u001b[39mencode(\u001b[38;5;124m'\u001b[39m\u001b[38;5;124mutf-8\u001b[39m\u001b[38;5;124m'\u001b[39m))\n",
      "Input \u001b[0;32mIn [5]\u001b[0m, in \u001b[0;36mbuild_geohash_box\u001b[0;34m(current_geohash)\u001b[0m\n\u001b[1;32m      7\u001b[0m \u001b[38;5;28;01mdef\u001b[39;00m \u001b[38;5;21mbuild_geohash_box\u001b[39m(current_geohash):\n\u001b[0;32m----> 8\u001b[0m     b\u001b[38;5;241m=\u001b[39m\u001b[43mgh\u001b[49m\u001b[38;5;241;43m.\u001b[39;49m\u001b[43mbbox\u001b[49m(current_geohash)\n\u001b[1;32m      9\u001b[0m     polygon\u001b[38;5;241m=\u001b[39m[(b[\u001b[38;5;124m'\u001b[39m\u001b[38;5;124mw\u001b[39m\u001b[38;5;124m'\u001b[39m], b[\u001b[38;5;124m'\u001b[39m\u001b[38;5;124ms\u001b[39m\u001b[38;5;124m'\u001b[39m]), (b[\u001b[38;5;124m'\u001b[39m\u001b[38;5;124mw\u001b[39m\u001b[38;5;124m'\u001b[39m], b[\u001b[38;5;124m'\u001b[39m\u001b[38;5;124mn\u001b[39m\u001b[38;5;124m'\u001b[39m]), (b[\u001b[38;5;124m'\u001b[39m\u001b[38;5;124me\u001b[39m\u001b[38;5;124m'\u001b[39m], b[\u001b[38;5;124m'\u001b[39m\u001b[38;5;124mn\u001b[39m\u001b[38;5;124m'\u001b[39m]), (b[\u001b[38;5;124m'\u001b[39m\u001b[38;5;124me\u001b[39m\u001b[38;5;124m'\u001b[39m], b[\u001b[38;5;124m'\u001b[39m\u001b[38;5;124ms\u001b[39m\u001b[38;5;124m'\u001b[39m],), (b[\u001b[38;5;124m'\u001b[39m\u001b[38;5;124mw\u001b[39m\u001b[38;5;124m'\u001b[39m], b[\u001b[38;5;124m'\u001b[39m\u001b[38;5;124ms\u001b[39m\u001b[38;5;124m'\u001b[39m])]\n\u001b[1;32m     10\u001b[0m     \u001b[38;5;28;01mreturn\u001b[39;00m polygon\n",
      "\u001b[0;31mAttributeError\u001b[0m: module 'pygeohash' has no attribute 'bbox'"
     ]
    }
   ],
   "source": [
    "import geojson\n",
    "from geojson import MultiLineString\n",
    "\n",
    "def write_geohash_layer(geohashes):\n",
    "    \"\"\"Writes a grid layer based on the geohashes\n",
    "\n",
    "    :param geohashes: a list of geohashes\n",
    "    \"\"\"\n",
    "\n",
    "    layer = MultiLineString([build_geohash_box(gh) for gh in geohashes])\n",
    "    with open('ghash_berlin_bbox.json', 'wb') as f:\n",
    "        f.write(geojson.dumps(ghash_polygon, sort_keys=True).encode('utf-8'))\n",
    "        \n",
    "write_geohash_layer(geo_list)"
   ]
  },
  {
   "cell_type": "code",
   "execution_count": 9,
   "id": "998dc334",
   "metadata": {},
   "outputs": [],
   "source": [
    "from shapely import geometry\n",
    "\n",
    "def compute_geohash_tiles_from_polygon(polygon):\n",
    "    \"\"\"Computes all hex tile in the given polygon\n",
    "\n",
    "    :param polygon: the polygon\n",
    "    :return: a list of geohashes\n",
    "    \"\"\"\n",
    "\n",
    "    checked_geohashes = set()\n",
    "    geohash_stack = set()\n",
    "    geohashes = []\n",
    "    # get center of bounding, assuming the earth is flat ;)\n",
    "    center_latitude = polygon.centroid.coords[0][1]\n",
    "    center_longitude = polygon.centroid.coords[0][0]\n",
    "\n",
    "    center_geohash = geohash.encode(center_latitude, center_longitude, precision=GEOHASH_PRECISION)\n",
    "    geohashes.append(center_geohash)\n",
    "    geohash_stack.add(center_geohash)\n",
    "    checked_geohashes.add(center_geohash)\n",
    "    while len(geohash_stack) > 0:\n",
    "        current_geohash = geohash_stack.pop()\n",
    "        neighbors = geohash.neighbors(current_geohash)\n",
    "        for neighbor in neighbors:\n",
    "            point = geometry.Point(geohash.decode(neighbor)[::-1])\n",
    "            if neighbor not in checked_geohashes and polygon.contains(point):\n",
    "                geohashes.append(neighbor)\n",
    "                geohash_stack.add(neighbor)\n",
    "                checked_geohashes.add(neighbor)\n",
    "    return geohashes"
   ]
  }
 ],
 "metadata": {
  "kernelspec": {
   "display_name": "Python 3 (ipykernel)",
   "language": "python",
   "name": "python3"
  },
  "language_info": {
   "codemirror_mode": {
    "name": "ipython",
    "version": 3
   },
   "file_extension": ".py",
   "mimetype": "text/x-python",
   "name": "python",
   "nbconvert_exporter": "python",
   "pygments_lexer": "ipython3",
   "version": "3.9.12"
  }
 },
 "nbformat": 4,
 "nbformat_minor": 5
}
