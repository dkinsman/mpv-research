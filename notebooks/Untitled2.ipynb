{
 "cells": [
  {
   "cell_type": "code",
   "execution_count": 6,
   "id": "6e997c78-ced7-4b17-9ebb-8091ef4854f3",
   "metadata": {},
   "outputs": [
    {
     "name": "stdout",
     "output_type": "stream",
     "text": [
      "(10454, 62)\n"
     ]
    },
    {
     "name": "stderr",
     "output_type": "stream",
     "text": [
      "/var/folders/jb/2grr3hjx7fng_kz01_rqpskm0000gn/T/ipykernel_38715/2324046745.py:63: SettingWithCopyWarning: \n",
      "A value is trying to be set on a copy of a slice from a DataFrame\n",
      "\n",
      "See the caveats in the documentation: https://pandas.pydata.org/pandas-docs/stable/user_guide/indexing.html#returning-a-view-versus-a-copy\n",
      "  mi.drop(columns = 'state', inplace = True)\n"
     ]
    },
    {
     "data": {
      "text/plain": [
       "<Figure size 432x288 with 0 Axes>"
      ]
     },
     "metadata": {},
     "output_type": "display_data"
    },
    {
     "data": {
      "image/png": "[encoded data removed]",
      "text/plain": [
       "<Figure size 432x288 with 1 Axes>"
      ]
     },
     "metadata": {
      "needs_background": "light"
     },
     "output_type": "display_data"
    },
    {
     "data": {
      "text/plain": [
       "<Figure size 432x288 with 0 Axes>"
      ]
     },
     "metadata": {},
     "output_type": "display_data"
    }
   ],
   "source": [
    "import pandas as pd\n",
    "import gudhi as gd\n",
    "import matplotlib.pyplot as plt\n",
    "import gudhi.representations\n",
    "import numpy as np\n",
    "\n",
    "def alpha_pd(lat_long, state):\n",
    "    stree = gd.AlphaComplex(points=lat_long).create_simplex_tree()\n",
    "    dgm = stree.persistence(persistence_dim_max=True)\n",
    "    plt.figure()\n",
    "    gd.plot_persistence_diagram(dgm, legend=True)\n",
    "    plt.title('Persistance diagram ' + state + ' (alpha)')\n",
    "    plt.savefig('../output/pd_whole/' + state + 'alpha_pd.jpeg', bbox_inches='tight')\n",
    "    return stree\n",
    "\n",
    "def rips_pd(lat_long, state):\n",
    "    stree = gd.AlphaComplex(points=lat_long).create_simplex_tree()\n",
    "    dgm = stree.persistence(persistence_dim_max=True)\n",
    "    plt.figure()\n",
    "    gd.plot_persistence_diagram(dgm, legend=True)\n",
    "    plt.title('Persistance diagram ' + state + ' (alpha)')\n",
    "    plt.savefig('../output/pd_whole/' + state + 'rips_pd.jpeg', bbox_inches='tight')\n",
    "    plt.close()\n",
    "    return stree\n",
    "\n",
    "def rips_landscapes(lat_long, state, rips):\n",
    "    dgms = []\n",
    "    DS = gd.representations.DiagramSelector(use=True, limit=np.inf, point_type='finite')\n",
    "    dim0int_without_infinity = DS.fit_transform([rips.persistence_intervals_in_dimension(0)] )\n",
    "    #print(dim0int_without_infinity)\n",
    "\n",
    "    #next, we look at 1-dimensional persistence intervals, however, \n",
    "    # all 1-d intervals (blue) persist to infinity and will be removed to create the persistence landscapes\n",
    "    #dgms=[ac.persistence_intervals_in_dimension(1)]\n",
    "    #print(dgms2)\n",
    "    #dim1int_without_infinity = DS.fit_transform([rips.persistence_intervals_in_dimension(1)])\n",
    "    #print(dim1int_without_infinity)\n",
    "    LS=gd.representations.Landscape(num_landscapes=10, resolution=100)\n",
    "    L=LS.fit_transform(dim0int_without_infinity)\n",
    "    #plots the landscape, adds title and legend\n",
    "    land1 = plt.figure()\n",
    "    plt.plot(L[0][:100], label = \"Landscape 1\" )\n",
    "    plt.plot(L[0][100:200], label = \"Landscape 2\")\n",
    "    plt.plot(L[0][200:300], label = \"Landscape 3\")\n",
    "    plt.plot(L[0][300:400], label = \"Landscape 4\")\n",
    "    plt.plot(L[0][400:500], label = \"Landscape 5\")\n",
    "    plt.plot(L[0][500:600], label = \"Landscape 6\")\n",
    "    plt.plot(L[0][600:700], label = \"Landscape 7\")\n",
    "    plt.plot(L[0][700:800], label = \"Landscape 8\")\n",
    "    plt.plot(L[0][800:900], label = \"Landscape 9\")\n",
    "    plt.plot(L[0][900:1000], label = \"Landscape 10\")\n",
    "    plt.legend()\n",
    "    plt.title('Landscapes (pc0, dimension 0)')\n",
    "\n",
    "\n",
    "def main():\n",
    "    df = pd.read_csv('../raw/mpv-data.csv')\n",
    "    print(df.shape)\n",
    "    df = df[['latitude', 'longitude', 'state']]\n",
    "    state = df.state.unique().tolist()\n",
    "\n",
    "    mi = df[df['state']=='MI']\n",
    "    mi.drop(columns = 'state', inplace = True)\n",
    "    atree = alpha_pd(mi.values.tolist(), 'MI')\n",
    "    rtree = rips_pd(mi.values.tolist(), 'MI')\n",
    "\n",
    "if __name__=='__main__':\n",
    "    main()"
   ]
  },
  {
   "cell_type": "code",
   "execution_count": null,
   "id": "bf747534-2151-4984-922d-c7e10709f894",
   "metadata": {},
   "outputs": [],
   "source": []
  }
 ],
 "metadata": {
  "kernelspec": {
   "display_name": "Python 3 (ipykernel)",
   "language": "python",
   "name": "python3"
  },
  "language_info": {
   "codemirror_mode": {
    "name": "ipython",
    "version": 3
   },
   "file_extension": ".py",
   "mimetype": "text/x-python",
   "name": "python",
   "nbconvert_exporter": "python",
   "pygments_lexer": "ipython3",
   "version": "3.9.12"
  }
 },
 "nbformat": 4,
 "nbformat_minor": 5
}
